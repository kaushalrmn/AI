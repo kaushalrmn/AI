{
 "cells": [
  {
   "cell_type": "markdown",
   "metadata": {},
   "source": [
    "##  Part A- Notebook to demonstrate NumPy Operations"
   ]
  },
  {
   "cell_type": "markdown",
   "metadata": {},
   "source": [
    "##  1. An array that starts from the integer 1, ends at 20, incremented by 3."
   ]
  },
  {
   "cell_type": "code",
   "execution_count": 119,
   "metadata": {},
   "outputs": [
    {
     "name": "stdout",
     "output_type": "stream",
     "text": [
      "[ 1  4  7 10 13 16 19]\n"
     ]
    }
   ],
   "source": [
    "import numpy as np\n",
    "\n",
    "# array starting from 1, ending at 20, incremented by 3\n",
    "my_array = np.arange(1, 21, 3)\n",
    "\n",
    "print(my_array) "
   ]
  },
  {
   "cell_type": "markdown",
   "metadata": {},
   "source": [
    "## 2. Create a new array of shape 3 with random numbers between 0 and 1."
   ]
  },
  {
   "cell_type": "code",
   "execution_count": 120,
   "metadata": {},
   "outputs": [
    {
     "name": "stdout",
     "output_type": "stream",
     "text": [
      "[0.84479385 0.80432798 0.84834979]\n"
     ]
    }
   ],
   "source": [
    "\n",
    "# array of shape 3 with random numbers between 0 and 1\n",
    "random_array = np.random.rand(3)\n",
    "\n",
    "print(random_array)"
   ]
  },
  {
   "cell_type": "markdown",
   "metadata": {},
   "source": [
    "## 3. A 2 D array [[10,20,45],[30,12,16],[42,17,56]] and perform the following operations:\n",
    "      Slice the 2D array to get the first two rows, slice the 2D array to get the last two rows."
   ]
  },
  {
   "cell_type": "code",
   "execution_count": 121,
   "metadata": {},
   "outputs": [
    {
     "name": "stdout",
     "output_type": "stream",
     "text": [
      "Original 2D array:\n",
      "[[10 20 45]\n",
      " [30 12 16]\n",
      " [42 17 56]]\n",
      "\n",
      "Sliced array - First two rows:\n",
      "[[10 20 45]\n",
      " [30 12 16]]\n",
      "\n",
      "Sliced array - Last two rows:\n",
      "[[30 12 16]\n",
      " [42 17 56]]\n"
     ]
    }
   ],
   "source": [
    "\n",
    "# Create a 2D array\n",
    "my_2d_array = np.array([[10, 20, 45],\n",
    "                        [30, 12, 16],\n",
    "                        [42, 17, 56]])\n",
    "\n",
    "# Slice to get the first two rows\n",
    "first_two_rows = my_2d_array[:2, :]\n",
    "\n",
    "# Slice to get the last two rows\n",
    "last_two_rows = my_2d_array[1:, :]\n",
    "\n",
    "# Print the results\n",
    "print(\"Original 2D array:\")\n",
    "print(my_2d_array)\n",
    "\n",
    "print(\"\\nSliced array - First two rows:\")\n",
    "print(first_two_rows)\n",
    "\n",
    "print(\"\\nSliced array - Last two rows:\")\n",
    "print(last_two_rows)"
   ]
  },
  {
   "cell_type": "markdown",
   "metadata": {},
   "source": [
    "## 4. Two 2x2 arrays and demonstrate how you can stack the elements vertically, horizontally, and split the arrays into smaller arrays."
   ]
  },
  {
   "cell_type": "code",
   "execution_count": 122,
   "metadata": {},
   "outputs": [
    {
     "name": "stdout",
     "output_type": "stream",
     "text": [
      "Array 1:\n",
      "[[1 2]\n",
      " [3 4]]\n",
      "\n",
      "Array 2:\n",
      "[[5 6]\n",
      " [7 8]]\n",
      "\n",
      "Vertically Stacked:\n",
      "[[1 2]\n",
      " [3 4]\n",
      " [5 6]\n",
      " [7 8]]\n",
      "\n",
      "Horizontally Stacked:\n",
      "[[1 2 5 6]\n",
      " [3 4 7 8]]\n",
      "\n",
      "Split Vertically:\n",
      "[[1 2]\n",
      " [3 4]]\n",
      "[[5 6]\n",
      " [7 8]]\n",
      "\n",
      "Split Horizontally:\n",
      "[[1 2]\n",
      " [3 4]]\n",
      "[[5 6]\n",
      " [7 8]]\n"
     ]
    }
   ],
   "source": [
    "\n",
    "# Create two 2x2 arrays\n",
    "array1 = np.array([[1, 2], \n",
    "                   [3, 4]])\n",
    "\n",
    "array2 = np.array([[5, 6], \n",
    "                   [7, 8]])\n",
    "\n",
    "print(\"Array 1:\")\n",
    "print(array1)\n",
    "\n",
    "print(\"\\nArray 2:\")\n",
    "print(array2)\n",
    "\n",
    "# Vertically stack the arrays\n",
    "vertical_stack = np.vstack((array1, array2))\n",
    "\n",
    "print(\"\\nVertically Stacked:\")\n",
    "print(vertical_stack)\n",
    "\n",
    "\n",
    "# Horizontally stack the arrays\n",
    "horizontal_stack = np.hstack((array1, array2))\n",
    "\n",
    "print(\"\\nHorizontally Stacked:\")\n",
    "print(horizontal_stack)\n",
    "\n",
    "# vertically stacked array into two smaller arrays\n",
    "split_vertical = np.vsplit(vertical_stack, 2)\n",
    "\n",
    "print(\"\\nSplit Vertically:\")\n",
    "for arr in split_vertical:\n",
    "    print(arr)\n",
    "\n",
    "#  horizontally stacked array into two smaller arrays\n",
    "split_horizontal = np.hsplit(horizontal_stack, 2)\n",
    "\n",
    "print(\"\\nSplit Horizontally:\")\n",
    "for arr in split_horizontal:\n",
    "    print(arr)"
   ]
  },
  {
   "cell_type": "markdown",
   "metadata": {},
   "source": [
    "## 5. Create two matrices 𝑋= ([[5,7,2],[4,5,6],[7,4 ,2]]),𝑌= ([[4,2],[6,2],[4,2]]),\n",
    "    Is it possible to multiply these matrices?\n",
    "    Demonstrate the case when it is not possible to."
   ]
  },
  {
   "cell_type": "code",
   "execution_count": 123,
   "metadata": {},
   "outputs": [
    {
     "name": "stdout",
     "output_type": "stream",
     "text": [
      "Matrix Multiplication Result:\n",
      "[[70 28]\n",
      " [70 30]\n",
      " [60 26]]\n"
     ]
    }
   ],
   "source": [
    "# Create matrices X and Y\n",
    "X = np.array([[5, 7, 2], \n",
    "              [4, 5, 6],\n",
    "              [7, 4, 2]])\n",
    "\n",
    "Y = np.array([[4, 2], \n",
    "              [6, 2], \n",
    "              [4, 2]])\n",
    "\n",
    "# Check if matrix multiplication is possible\n",
    "if X.shape[1] == Y.shape[0]:\n",
    "\n",
    "    # Perform matrix multiplication\n",
    "    result = np.dot(X, Y)\n",
    "\n",
    "    print(\"Matrix Multiplication Result:\")\n",
    "    print(result)\n",
    "else:\n",
    "    print(\"Matrix multiplication is not possible due to incompatible dimensions.\")\n"
   ]
  },
  {
   "cell_type": "markdown",
   "metadata": {},
   "source": [
    "## 6.  Create two arrays, 𝑥 = ([2,−1,−8]) 𝑦 = ([3,1,−2]),\n",
    "     Find the Shape, Number of dimensions of vector x.\n",
    "     Reshape the vector x to a matrix of size (3,1) and determine the number of dimensions after reshaping y to a matrix of (3,1)."
   ]
  },
  {
   "cell_type": "code",
   "execution_count": 124,
   "metadata": {},
   "outputs": [
    {
     "name": "stdout",
     "output_type": "stream",
     "text": [
      "Vector x:\n",
      "Shape: (3,)\n",
      "Number of dimensions: 1\n",
      "\n",
      "Reshaped matrix x:\n",
      "[[ 2]\n",
      " [-1]\n",
      " [-8]]\n",
      "Number of dimensions after reshaping x: 2\n",
      "\n",
      "Reshaped matrix y:\n",
      "[[ 3]\n",
      " [ 1]\n",
      " [-2]]\n",
      "Number of dimensions after reshaping y: 2\n"
     ]
    }
   ],
   "source": [
    "# Create arrays x and y\n",
    "x = np.array([2, -1, -8])\n",
    "y = np.array([3, 1, -2])\n",
    "\n",
    "# Find the shape and number of dimensions of vector x\n",
    "shape_x = x.shape\n",
    "dimensions_x = x.ndim\n",
    "\n",
    "print(\"Vector x:\")\n",
    "print(\"Shape:\", shape_x)\n",
    "print(\"Number of dimensions:\", dimensions_x)\n",
    "\n",
    "# Reshape vector x to a matrix of size (3,1)\n",
    "x_reshaped = x.reshape((3, 1))\n",
    "\n",
    "# Reshape vector y to a matrix of size (3,1)\n",
    "y_reshaped = y.reshape((3, 1))\n",
    "\n",
    "# Determine the number of dimensions after reshaping y\n",
    "dimensions_y_reshaped = y_reshaped.ndim\n",
    "\n",
    "print(\"\\nReshaped matrix x:\")\n",
    "print(x_reshaped)\n",
    "print(\"Number of dimensions after reshaping x:\", x_reshaped.ndim)\n",
    "\n",
    "print(\"\\nReshaped matrix y:\")\n",
    "print(y_reshaped)\n",
    "print(\"Number of dimensions after reshaping y:\", dimensions_y_reshaped)\n"
   ]
  },
  {
   "cell_type": "markdown",
   "metadata": {},
   "source": [
    "## 7. How does broadcasting work? Demonstrate the subtraction, multiplication by considering a 3 x 3 matrix."
   ]
  },
  {
   "cell_type": "code",
   "execution_count": 125,
   "metadata": {},
   "outputs": [
    {
     "name": "stdout",
     "output_type": "stream",
     "text": [
      "Original Matrix:\n",
      "[[9 8 7]\n",
      " [6 5 4]\n",
      " [3 2 1]]\n",
      "\n",
      "Subtracting Vector (Broadcasting):\n",
      "[[ 0  0  0]\n",
      " [-3 -3 -3]\n",
      " [-6 -6 -6]]\n",
      "\n",
      "Multiplying by Scalar (Broadcasting):\n",
      "[[36 32 28]\n",
      " [24 20 16]\n",
      " [12  8  4]]\n"
     ]
    }
   ],
   "source": [
    "# Create a 3x3 matrix\n",
    "matrix = np.array([[9, 8, 7],\n",
    "                   [6, 5, 4],\n",
    "                   [3, 2, 1]])\n",
    "\n",
    "\n",
    "\n",
    "# Print the results\n",
    "print(\"Original Matrix:\")\n",
    "print(matrix)\n",
    "\n",
    "# Define a vector for subtraction and multiplication\n",
    "subtraction_vector = np.array([9, 8, 7])\n",
    "multiplication_scalar = 4\n",
    "\n",
    "# Broadcasting for subtraction\n",
    "result_subtraction = matrix - subtraction_vector\n",
    "\n",
    "print(\"\\nSubtracting Vector (Broadcasting):\")\n",
    "print(result_subtraction)\n",
    "\n",
    "# Broadcasting for multiplication\n",
    "result_multiplication = matrix * multiplication_scalar\n",
    "\n",
    "print(\"\\nMultiplying by Scalar (Broadcasting):\")\n",
    "print(result_multiplication)\n"
   ]
  },
  {
   "cell_type": "markdown",
   "metadata": {},
   "source": [
    "## Part B- Linear Equations\n",
    "   Determine the singularity of the system of equations, comment on the expected solution of the system. Solve the system of equations if \n",
    "   possible. Justify the reason why you believe the system can or cannot be solved using NumPy functions."
   ]
  },
  {
   "cell_type": "markdown",
   "metadata": {},
   "source": [
    "## Part B.1  \n",
    " \n",
    "   1. 4x + y - 2z = 10\n",
    "   2. 2x - 3y + 2z = -4\n",
    "   3. x + 2y + 3z = 6"
   ]
  },
  {
   "cell_type": "code",
   "execution_count": 126,
   "metadata": {},
   "outputs": [
    {
     "name": "stdout",
     "output_type": "stream",
     "text": [
      "Determinant of Matrix A: -70.00000000000003\n",
      "Solution for the system:\n",
      "[ 1.8  2.4 -0.2]\n"
     ]
    }
   ],
   "source": [
    "# Coefficient matrix A\n",
    "A = np.array([[4, 1, -2],\n",
    "              [2, -3, 2],\n",
    "              [1, 2, 3]])\n",
    "\n",
    "\n",
    "# Calculate determinant of A\n",
    "det_A = np.linalg.det(A)\n",
    "\n",
    "print(\"Determinant of Matrix A:\", det_A)\n",
    "\n",
    "\n",
    "# Right-hand side vector B\n",
    "B = np.array([10, -4, 6])\n",
    "\n",
    "# Solve the system of equations if it is non-singular\n",
    "if det_A != 0:\n",
    "    solution = np.linalg.solve(A, B)\n",
    "    print(\"Solution for the system:\")\n",
    "    print(solution)\n",
    "else:\n",
    "    print(\"The system is singular, and a unique solution may not exist.\")\n",
    "\n",
    "\n",
    "\n"
   ]
  },
  {
   "cell_type": "markdown",
   "metadata": {},
   "source": [
    "## Part B.2\n",
    "   1. 2x - y + 3z + 4w = 10\n",
    "   2. 4x - 2y + 6z + 8w = 20\n",
    "   3. 3x + y - 2z + 2w = 3\n",
    "   4. x + 3y - 4z + w = -1"
   ]
  },
  {
   "cell_type": "code",
   "execution_count": 127,
   "metadata": {},
   "outputs": [
    {
     "name": "stdout",
     "output_type": "stream",
     "text": [
      "The system is singular. It may have no solution or infinitely many solutions.\n",
      "\n",
      "The system is singular, and a unique solution may not exist.\n"
     ]
    }
   ],
   "source": [
    "# Coefficient matrix A\n",
    "A = np.array([[2, -1, 3, 4],\n",
    "              [4, -2, 6, 8],\n",
    "              [3, 1, -2, 2],\n",
    "              [1, 3, -4, 1]])\n",
    "\n",
    "# Calculate determinant of A\n",
    "det_A = np.linalg.det(A)\n",
    "\n",
    "# Check singularity and comment on the expected solution\n",
    "if det_A != 0:\n",
    "    print(\"The system is non-singular. It is expected to have a unique solution.\")\n",
    "else:\n",
    "    print(\"The system is singular. It may have no solution or infinitely many solutions.\")\n",
    "\n",
    "\n",
    "# Right-hand side vector B\n",
    "B = np.array([10, 20, 3, -1])\n",
    "\n",
    "# Solve the system of equations if it is non-singular\n",
    "if det_A != 0:\n",
    "    solution = np.linalg.solve(A, B)\n",
    "    print(\"\\nSolution for the system:\")\n",
    "    print(solution)\n",
    "else:\n",
    "    print(\"\\nThe system is singular, and a unique solution may not exist.\")\n",
    "\n"
   ]
  },
  {
   "cell_type": "markdown",
   "metadata": {},
   "source": []
  },
  {
   "cell_type": "markdown",
   "metadata": {},
   "source": []
  }
 ],
 "metadata": {
  "kernelspec": {
   "display_name": "Python 3",
   "language": "python",
   "name": "python3"
  },
  "language_info": {
   "codemirror_mode": {
    "name": "ipython",
    "version": 3
   },
   "file_extension": ".py",
   "mimetype": "text/x-python",
   "name": "python",
   "nbconvert_exporter": "python",
   "pygments_lexer": "ipython3",
   "version": "3.11.7"
  }
 },
 "nbformat": 4,
 "nbformat_minor": 2
}
